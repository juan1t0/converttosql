{
 "cells": [
  {
   "cell_type": "code",
   "execution_count": 1,
   "metadata": {},
   "outputs": [],
   "source": [
    "from scripts.utils import Dataset, prepare_data_from_dataframe"
   ]
  },
  {
   "cell_type": "code",
   "execution_count": 2,
   "metadata": {},
   "outputs": [
    {
     "data": {
      "text/html": [
       "<div>\n",
       "<style scoped>\n",
       "    .dataframe tbody tr th:only-of-type {\n",
       "        vertical-align: middle;\n",
       "    }\n",
       "\n",
       "    .dataframe tbody tr th {\n",
       "        vertical-align: top;\n",
       "    }\n",
       "\n",
       "    .dataframe thead th {\n",
       "        text-align: right;\n",
       "    }\n",
       "</style>\n",
       "<table border=\"1\" class=\"dataframe\">\n",
       "  <thead>\n",
       "    <tr style=\"text-align: right;\">\n",
       "      <th></th>\n",
       "      <th>NL_query</th>\n",
       "      <th>SQL_query</th>\n",
       "      <th>SQLtable</th>\n",
       "    </tr>\n",
       "  </thead>\n",
       "  <tbody>\n",
       "    <tr>\n",
       "      <th>0</th>\n",
       "      <td>How many heads of the departments are older th...</td>\n",
       "      <td>SELECT count(*) FROM head WHERE age &gt; 5 6</td>\n",
       "      <td>department_management</td>\n",
       "    </tr>\n",
       "    <tr>\n",
       "      <th>1</th>\n",
       "      <td>List the name, born state and age of the heads...</td>\n",
       "      <td>SELECT name , born_state , age FROM head ORDER...</td>\n",
       "      <td>department_management</td>\n",
       "    </tr>\n",
       "    <tr>\n",
       "      <th>2</th>\n",
       "      <td>List the creation year, name and budget of eac...</td>\n",
       "      <td>SELECT creation , name , budget_in_billions FR...</td>\n",
       "      <td>department_management</td>\n",
       "    </tr>\n",
       "    <tr>\n",
       "      <th>3</th>\n",
       "      <td>What are the maximum and minimum budget of the...</td>\n",
       "      <td>SELECT max(budget_in_billions) , min(budget_in...</td>\n",
       "      <td>department_management</td>\n",
       "    </tr>\n",
       "    <tr>\n",
       "      <th>4</th>\n",
       "      <td>What is the average number of employees of the...</td>\n",
       "      <td>SELECT avg(num_employees) FROM department WHER...</td>\n",
       "      <td>department_management</td>\n",
       "    </tr>\n",
       "    <tr>\n",
       "      <th>...</th>\n",
       "      <td>...</td>\n",
       "      <td>...</td>\n",
       "      <td>...</td>\n",
       "    </tr>\n",
       "    <tr>\n",
       "      <th>6995</th>\n",
       "      <td>What are all the company names that have a boo...</td>\n",
       "      <td>SELECT T1.company_name FROM culture_company AS...</td>\n",
       "      <td>culture_company</td>\n",
       "    </tr>\n",
       "    <tr>\n",
       "      <th>6996</th>\n",
       "      <td>Show the movie titles and book titles for all ...</td>\n",
       "      <td>SELECT T1.title , T3.book_title FROM movie AS ...</td>\n",
       "      <td>culture_company</td>\n",
       "    </tr>\n",
       "    <tr>\n",
       "      <th>6997</th>\n",
       "      <td>What are the titles of movies and books corres...</td>\n",
       "      <td>SELECT T1.title , T3.book_title FROM movie AS ...</td>\n",
       "      <td>culture_company</td>\n",
       "    </tr>\n",
       "    <tr>\n",
       "      <th>6998</th>\n",
       "      <td>Show all company names with a movie directed i...</td>\n",
       "      <td>SELECT T2.company_name FROM movie AS T1 JOIN c...</td>\n",
       "      <td>culture_company</td>\n",
       "    </tr>\n",
       "    <tr>\n",
       "      <th>6999</th>\n",
       "      <td>What are all company names that have a corresp...</td>\n",
       "      <td>SELECT T2.company_name FROM movie AS T1 JOIN c...</td>\n",
       "      <td>culture_company</td>\n",
       "    </tr>\n",
       "  </tbody>\n",
       "</table>\n",
       "<p>7000 rows × 3 columns</p>\n",
       "</div>"
      ],
      "text/plain": [
       "                                               NL_query  \\\n",
       "0     How many heads of the departments are older th...   \n",
       "1     List the name, born state and age of the heads...   \n",
       "2     List the creation year, name and budget of eac...   \n",
       "3     What are the maximum and minimum budget of the...   \n",
       "4     What is the average number of employees of the...   \n",
       "...                                                 ...   \n",
       "6995  What are all the company names that have a boo...   \n",
       "6996  Show the movie titles and book titles for all ...   \n",
       "6997  What are the titles of movies and books corres...   \n",
       "6998  Show all company names with a movie directed i...   \n",
       "6999  What are all company names that have a corresp...   \n",
       "\n",
       "                                              SQL_query               SQLtable  \n",
       "0            SELECT count(*) FROM head WHERE age > 5 6   department_management  \n",
       "1     SELECT name , born_state , age FROM head ORDER...  department_management  \n",
       "2     SELECT creation , name , budget_in_billions FR...  department_management  \n",
       "3     SELECT max(budget_in_billions) , min(budget_in...  department_management  \n",
       "4     SELECT avg(num_employees) FROM department WHER...  department_management  \n",
       "...                                                 ...                    ...  \n",
       "6995  SELECT T1.company_name FROM culture_company AS...        culture_company  \n",
       "6996  SELECT T1.title , T3.book_title FROM movie AS ...        culture_company  \n",
       "6997  SELECT T1.title , T3.book_title FROM movie AS ...        culture_company  \n",
       "6998  SELECT T2.company_name FROM movie AS T1 JOIN c...        culture_company  \n",
       "6999  SELECT T2.company_name FROM movie AS T1 JOIN c...        culture_company  \n",
       "\n",
       "[7000 rows x 3 columns]"
      ]
     },
     "execution_count": 2,
     "metadata": {},
     "output_type": "execute_result"
    }
   ],
   "source": [
    "data = Dataset('spider/train_spider.json', 'spider/tables.json')\n",
    "data.gen_dataframe(transform=True)"
   ]
  },
  {
   "cell_type": "code",
   "execution_count": 3,
   "metadata": {},
   "outputs": [
    {
     "name": "stdout",
     "output_type": "stream",
     "text": [
      "Input corpus with 4470 words\n",
      "Output corpus with 3380 words\n"
     ]
    }
   ],
   "source": [
    "MAX_LENGTH = 40\n",
    "\n",
    "input_corpus, output_corpus, pairs = prepare_data_from_dataframe(data, MAX_LENGTH)"
   ]
  },
  {
   "cell_type": "code",
   "execution_count": 4,
   "metadata": {},
   "outputs": [
    {
     "data": {
      "text/plain": [
       "'6259 pairs'"
      ]
     },
     "execution_count": 4,
     "metadata": {},
     "output_type": "execute_result"
    }
   ],
   "source": [
    "'%d pairs'%(len(pairs))"
   ]
  },
  {
   "cell_type": "code",
   "execution_count": 5,
   "metadata": {},
   "outputs": [
    {
     "data": {
      "text/plain": [
       "['what is the average number of employees of the departments whose rank is between 1 0 and 1 5 ? | departmentmanagement numemployees headid bornstate departmentid creation',\n",
       " 'select avg numemployees from department where ranking between 1 0 and 1 5']"
      ]
     },
     "execution_count": 5,
     "metadata": {},
     "output_type": "execute_result"
    }
   ],
   "source": [
    "pairs[4]"
   ]
  },
  {
   "cell_type": "code",
   "execution_count": 9,
   "metadata": {},
   "outputs": [],
   "source": [
    "import torch\n",
    "\n",
    "from scripts.seq2seq import EncoderRNN, DecoderRNN\n",
    "\n",
    "device = torch.device('cuda:0' if torch.cuda.is_available() else 'cpu')"
   ]
  },
  {
   "cell_type": "code",
   "execution_count": 10,
   "metadata": {},
   "outputs": [],
   "source": [
    "hidden_size = 256\n",
    "encoder = EncoderRNN(input_corpus.NWords, hidden_size, device).to(device)\n",
    "decoder = DecoderRNN(hidden_size, output_corpus.NWords, device, dropout_p=0.1, max_length=MAX_LENGTH).to(device)"
   ]
  },
  {
   "cell_type": "code",
   "execution_count": 11,
   "metadata": {},
   "outputs": [],
   "source": [
    "from scripts.train_test import Processor"
   ]
  },
  {
   "cell_type": "code",
   "execution_count": 12,
   "metadata": {},
   "outputs": [],
   "source": [
    "processor = Processor(encoder=encoder, decoder=decoder, pairs=pairs, device=device, maxlen=MAX_LENGTH)"
   ]
  },
  {
   "cell_type": "code",
   "execution_count": 13,
   "metadata": {},
   "outputs": [
    {
     "name": "stdout",
     "output_type": "stream",
     "text": [
      "3m 41s (- 51m 43s) (5000 6%) 3.8996\n",
      "7m 13s (- 46m 55s) (10000 13%) 3.0553\n",
      "10m 44s (- 42m 57s) (15000 20%) 2.8131\n",
      "14m 21s (- 39m 29s) (20000 26%) 2.7290\n",
      "17m 59s (- 35m 59s) (25000 33%) 2.6537\n",
      "21m 36s (- 32m 24s) (30000 40%) 2.6418\n",
      "25m 13s (- 28m 49s) (35000 46%) 2.6010\n",
      "28m 48s (- 25m 12s) (40000 53%) 2.5245\n",
      "32m 24s (- 21m 36s) (45000 60%) 2.3857\n",
      "35m 59s (- 17m 59s) (50000 66%) 2.3345\n",
      "39m 35s (- 14m 23s) (55000 73%) 2.2460\n",
      "43m 9s (- 10m 47s) (60000 80%) 2.1925\n",
      "46m 47s (- 7m 11s) (65000 86%) 2.1219\n",
      "50m 39s (- 3m 37s) (70000 93%) 2.0550\n",
      "54m 23s (- 0m 0s) (75000 100%) 1.9618\n"
     ]
    }
   ],
   "source": [
    "losses = processor.train(75000, input_corpus=input_corpus, output_corpus=output_corpus,\n",
    "                         print_every=5000, plot_every=100, learnig_rate=0.01)"
   ]
  },
  {
   "cell_type": "code",
   "execution_count": 14,
   "metadata": {},
   "outputs": [],
   "source": [
    "torch.save({'encoder':encoder.state_dict(), 'decoder':decoder.state_dict()}, 'checkpoints/seq2sql_75m.pth')"
   ]
  },
  {
   "cell_type": "code",
   "execution_count": 15,
   "metadata": {},
   "outputs": [
    {
     "data": {
      "text/plain": [
       "[<matplotlib.lines.Line2D at 0x7f1d0cfd0220>]"
      ]
     },
     "execution_count": 15,
     "metadata": {},
     "output_type": "execute_result"
    },
    {
     "data": {
      "image/png": "[encoded data removed]",
      "text/plain": [
       "<Figure size 640x480 with 1 Axes>"
      ]
     },
     "metadata": {},
     "output_type": "display_data"
    }
   ],
   "source": [
    "import matplotlib.pyplot as plt\n",
    "\n",
    "plt.plot(range(len(losses)),losses)"
   ]
  },
  {
   "cell_type": "code",
   "execution_count": 18,
   "metadata": {},
   "outputs": [
    {
     "name": "stdout",
     "output_type": "stream",
     "text": [
      "IN: which wineries produce at least four wines ? | wine1 year area cases winery price\n",
      "TG: select winery from wine group by winery having count all greaterthanequalto 4\n",
      "PD: select name from from from where where equalto t1 <EOS>\n",
      "\n",
      "IN: show company name and main industry without a gas station . | gascompany mainindustry companyid location stationid company\n",
      "TG: select company mainindustry from company where companyid not in select companyid from stationcompany \n",
      "PD: select name location from from where where equalto in <EOS>\n",
      "\n",
      "IN: what are the names of all the races that occurred in the year 2 0 1 7 ? | formula1 altitude year time name date\n",
      "TG: select name from races where year equalto 2 0 1 7\n",
      "PD: select name from from where where equalto 1 1 1 1 1 <EOS>\n",
      "\n",
      "IN: what are the names of all colleges that have two or more players ? | matchseason college totalwl team player name\n",
      "TG: select college from matchseason group by college having count all greaterthanequalto 2\n",
      "PD: select name from player where city equalto select <EOS>\n",
      "\n",
      "IN: on what dates did the student whose personal name is karson enroll in and complete the courses ? | elearning courseid middlename personalname coursename studentid\n",
      "TG: select t1 in dateofenrolment t1 in dateofcompletion from studentcourseenrolment as t1 join students as t2 on t1 in studentid equalto t2 in studentid where t2 in personalname equalto karson \n",
      "PD: select t1 in studentid t1 in t1 from in as t1 join as as t2 on t1 in studentid equalto t2 in studentid where t2 in in equalto in <EOS>\n",
      "\n"
     ]
    }
   ],
   "source": [
    "processor.evaluateRandomly(input_corpus=input_corpus, output_corpus=output_corpus)"
   ]
  }
 ],
 "metadata": {
  "kernelspec": {
   "display_name": "env",
   "language": "python",
   "name": "python3"
  },
  "language_info": {
   "codemirror_mode": {
    "name": "ipython",
    "version": 3
   },
   "file_extension": ".py",
   "mimetype": "text/x-python",
   "name": "python",
   "nbconvert_exporter": "python",
   "pygments_lexer": "ipython3",
   "version": "3.10.4 (main, Mar 31 2022, 08:41:55) [GCC 7.5.0]"
  },
  "orig_nbformat": 4,
  "vscode": {
   "interpreter": {
    "hash": "12a7dec02bb936851365510a9b801f7af2868f4f0ef8d05b4656498fb6529a81"
   }
  }
 },
 "nbformat": 4,
 "nbformat_minor": 2
}
